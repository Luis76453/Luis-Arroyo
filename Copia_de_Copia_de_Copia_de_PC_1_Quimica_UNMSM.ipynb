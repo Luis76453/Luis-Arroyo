{
  "nbformat": 4,
  "nbformat_minor": 0,
  "metadata": {
    "colab": {
      "provenance": [],
      "include_colab_link": true
    },
    "kernelspec": {
      "name": "python3",
      "display_name": "Python 3"
    },
    "language_info": {
      "name": "python"
    },
    "widgets": {
      "application/vnd.jupyter.widget-state+json": {
        "d4691835f4474884829213796343340f": {
          "model_module": "faerun-notebook",
          "model_name": "SmilesDrawerModel",
          "model_module_version": "^0.1.5",
          "state": {
            "_dom_classes": [],
            "_model_module": "faerun-notebook",
            "_model_module_version": "^0.1.5",
            "_model_name": "SmilesDrawerModel",
            "_view_count": null,
            "_view_module": "faerun-notebook",
            "_view_module_version": "^0.1.5",
            "_view_name": "SmilesDrawerView",
            "background": "#1e1e1e",
            "border": true,
            "layout": "IPY_MODEL_35b7ce94b6e84d4c985918e50984dcd7",
            "options": {
              "scale": 1.25
            },
            "output": "svg",
            "theme": "dark",
            "value": [
              [
                "Rxn",
                "C(C1C(C(C(C(O1)O)O)O)O)O.O=O>>C(=O)=O.O"
              ]
            ]
          }
        },
        "35b7ce94b6e84d4c985918e50984dcd7": {
          "model_module": "@jupyter-widgets/base",
          "model_name": "LayoutModel",
          "model_module_version": "1.2.0",
          "state": {
            "_model_module": "@jupyter-widgets/base",
            "_model_module_version": "1.2.0",
            "_model_name": "LayoutModel",
            "_view_count": null,
            "_view_module": "@jupyter-widgets/base",
            "_view_module_version": "1.2.0",
            "_view_name": "LayoutView",
            "align_content": null,
            "align_items": null,
            "align_self": null,
            "border": null,
            "bottom": null,
            "display": null,
            "flex": null,
            "flex_flow": null,
            "grid_area": null,
            "grid_auto_columns": null,
            "grid_auto_flow": null,
            "grid_auto_rows": null,
            "grid_column": null,
            "grid_gap": null,
            "grid_row": null,
            "grid_template_areas": null,
            "grid_template_columns": null,
            "grid_template_rows": null,
            "height": null,
            "justify_content": null,
            "justify_items": null,
            "left": null,
            "margin": null,
            "max_height": null,
            "max_width": null,
            "min_height": null,
            "min_width": null,
            "object_fit": null,
            "object_position": null,
            "order": null,
            "overflow": null,
            "overflow_x": null,
            "overflow_y": null,
            "padding": null,
            "right": null,
            "top": null,
            "visibility": null,
            "width": null
          }
        }
      }
    }
  },
  "cells": [
    {
      "cell_type": "markdown",
      "metadata": {
        "id": "view-in-github",
        "colab_type": "text"
      },
      "source": [
        "<a href=\"https://colab.research.google.com/github/Luis76453/Luis-Arroyo/blob/main/Copia_de_Copia_de_Copia_de_PC_1_Quimica_UNMSM.ipynb\" target=\"_parent\"><img src=\"https://colab.research.google.com/assets/colab-badge.svg\" alt=\"Open In Colab\"/></a>"
      ]
    },
    {
      "cell_type": "markdown",
      "source": [
        "$$\\Large \\textit{UNMSM | Química}$$\n",
        "$$\\large \\textbf{PC Nº1 | Materia y clasificación}$$\n",
        "\n",
        "_Profesor: Jesus Alvarado Huayhuaz_"
      ],
      "metadata": {
        "id": "sDJAjbaQOj4x"
      }
    },
    {
      "cell_type": "markdown",
      "source": [
        "Todas las indicaciones para la presentación de la práctica son explicadas en clase y brindadas en el material de enunciado de preguntas en formato PDF."
      ],
      "metadata": {
        "id": "_DsTzWLoP7Fy"
      }
    },
    {
      "cell_type": "markdown",
      "source": [
        "## Pregunta 1: Sobre el ABC de python (4 puntos)"
      ],
      "metadata": {
        "id": "obD7c2igOD6t"
      }
    },
    {
      "cell_type": "markdown",
      "source": [
        "Durante la semana de revisión del material \"ABC de python\", reflexiona sobre qué conceptos aprendiste con claridad y cuáles consideras los más desafiantes. A continuación resuelve los siguiente ejercicios, puedes ayudarte del material en http://bit.ly/3YKICSZ."
      ],
      "metadata": {
        "id": "emt93S7dL7QH"
      }
    },
    {
      "cell_type": "code",
      "source": [
        "# Imprime la versión de python que usas y las palabras reservadas de python para esa versión.\n",
        "reserv = [\"False\",\"class\",\"from\",\"or\",\"None\",\"continue\",\"global\",\"pass\",\"True\",\"def\",\"if\",\"raise\",\"and\",\"del\",\"import\",\"return\",\"as\",\"elif\",\"in\",\"try\",\"assert\",\"else\",\"is\",\"while\",\"async\",\"except\",\"lambda\",\"with\",\"await\",\"finally\",\"nonlocal\",\"yield\",\"break\",\"for\",\"not\"]\n",
        "print('la version es : 3.11 ','palabras de reserva: ', reserv ,'numero de palabras de reserva: ', len(reserv))\n"
      ],
      "metadata": {
        "id": "6mJvqMN0LTU8",
        "colab": {
          "base_uri": "https://localhost:8080/"
        },
        "outputId": "48165187-14a5-45bc-c433-75948ec72597"
      },
      "execution_count": null,
      "outputs": [
        {
          "output_type": "stream",
          "name": "stdout",
          "text": [
            "la version es 3.11  palabras de reserva:  ['False', 'class', 'from', 'or', 'None', 'continue', 'global', 'pass', 'True', 'def', 'if', 'raise', 'and', 'del', 'import', 'return', 'as', 'elif', 'in', 'try', 'assert', 'else', 'is', 'while', 'async', 'except', 'lambda', 'with', 'await', 'finally', 'nonlocal', 'yield', 'break', 'for', 'not'] numero de palabras de reserva:  35\n"
          ]
        }
      ]
    },
    {
      "cell_type": "code",
      "source": [
        "# Crea una matriz de 3x3 e imprime la suma de los elementos en su diagonal (traza).\n",
        "matriz = [[1, 2, 3],\n",
        "          [4, 5, 6],\n",
        "          [7, 8, 9]]\n",
        "traza = 0\n",
        "for i in range(3) :\n",
        "    traza += matriz[i][i]\n",
        "print('suma de la diagonal principal : ', traza)\n",
        "\n",
        "for i in matriz:\n",
        "  print(i)"
      ],
      "metadata": {
        "id": "MxDzGypdLTXh",
        "colab": {
          "base_uri": "https://localhost:8080/"
        },
        "outputId": "df594925-9af4-4c09-cf4c-9811ef081755"
      },
      "execution_count": null,
      "outputs": [
        {
          "output_type": "stream",
          "name": "stdout",
          "text": [
            "suma de la diagonal principal :  15\n",
            "[1, 2, 3]\n",
            "[4, 5, 6]\n",
            "[7, 8, 9]\n"
          ]
        }
      ]
    },
    {
      "cell_type": "code",
      "source": [
        "# Guarda como variable la masa atómica de los elementos C, H y O, e imprime la masa molecular del etanol.\n",
        "m_c = 12\n",
        "m_h = 1\n",
        "m_o = 16\n",
        "masa_etanol= (2*m_c) + (6*m_h) + (m_o)\n",
        "print('masa molecular del etanol : ' , masa_etanol)"
      ],
      "metadata": {
        "id": "MyhNX7JmLTSe",
        "colab": {
          "base_uri": "https://localhost:8080/"
        },
        "outputId": "3be6e53b-f451-4f42-d136-658443e7c46a"
      },
      "execution_count": null,
      "outputs": [
        {
          "output_type": "stream",
          "name": "stdout",
          "text": [
            "masa molecular del etanol :  46\n"
          ]
        }
      ]
    },
    {
      "cell_type": "code",
      "source": [
        "# Busca la temperatura de fusión en Celsius de 5 metales y guárdalos en una lista. Imprime las temperaturas en Kelvin\n",
        "celsius = [1064, 1538, 232, 420, 962]\n",
        "metales = ['oro', 'hierro', 'estaño', 'zinc', 'plata']\n",
        "for i in range(len(celsius)):\n",
        "  kelvin = celsius[i] + 273\n",
        "  print(f\" {metales[i]} --> {kelvin} K\")\n",
        "\n"
      ],
      "metadata": {
        "id": "NCOnJ0FwgLLc",
        "colab": {
          "base_uri": "https://localhost:8080/"
        },
        "outputId": "90f55e6e-7f2f-4cf3-9448-b6b0d921ae4a"
      },
      "execution_count": null,
      "outputs": [
        {
          "output_type": "stream",
          "name": "stdout",
          "text": [
            " oro --> 1337 K\n",
            " hierro --> 1811 K\n",
            " estaño --> 505 K\n",
            " zinc --> 693 K\n",
            " plata --> 1235 K\n"
          ]
        }
      ]
    },
    {
      "cell_type": "markdown",
      "source": [
        "## Pregunta 2: Operaciones (4 puntos)"
      ],
      "metadata": {
        "id": "epzOadagLfPi"
      }
    },
    {
      "cell_type": "markdown",
      "source": [
        "Escribe un programa que lea repetidamente elementos químicos en español hasta que el usuario introduzca “fin”. Una vez se haya introducido “fin”, muestra por pantalla (o sea imprime) el total de elementos ingresados. Si el usuario introduce cualquier otra cosa que no sea un elemento químico, detecta su fallo usando try y except, muestra un mensaje de error y pasa al siguiente elemento."
      ],
      "metadata": {
        "id": "MbAEOGPsjOWZ"
      }
    },
    {
      "cell_type": "code",
      "source": [
        "elementos= [\"hidrogeno\", \"helio\", \"litio\", \"berilio\", \"boro\", \"carbono\", \"nitrogeno\", \"oxigeno\", \"fluor\", \"neon\", \"sodio\", \"magnesio\", \"aluminio\", \"silicio\", \"fosforo\", \"azufre\", \"cloro\", \"argon\", \"potasio\", \"calcio\", \"escandio\", \"titanio\", \"vanadio\", \"cromo\", \"manganeso\", \"hierro\", \"cobalto\", \"niquel\", \"cobre\", \"zinc\", \"galio\", \"germanio\", \"arsenico\", \"selenio\", \"bromo\", \"kripton\", \"rubidio\", \"estroncio\", \"itrio\", \"circonio\", \"niobio\", \"molibdeno\", \"tecnecio\", \"rutenio\", \"rodio\", \"paladio\", \"plata\", \"cadmio\", \"indio\", \"estano\", \"antimonio\", \"telurio\", \"yodo\", \"xenon\", \"cesio\", \"bario\", \"lantano\", \"cerio\", \"praseodimio\", \"neodimio\", \"prometio\", \"samario\", \"europio\", \"gadolinio\", \"terbio\", \"disprosio\", \"holmio\", \"erbio\", \"tulio\", \"iterbio\", \"lutecio\", \"hafnio\", \"tantalo\", \"wolframio\", \"renio\", \"osmio\", \"iridio\", \"platino\", \"oro\", \"mercurio\", \"talio\", \"plomo\", \"bismuto\", \"polonio\", \"astato\", \"radon\", \"francio\", \"radio\", \"actinio\", \"torio\", \"protactinio\", \"uranio\", \"neptunio\", \"plutonio\", \"americio\", \"curio\", \"berkelio\", \"californio\", \"einstenio\", \"fermio\", \"mendelevio\", \"nobelio\", \"lawrencio\", \"rutherfordio\", \"dubnio\", \"seaborgio\", \"bohrio\", \"hasio\", \"meitnerio\", \"darmstatio\", \"roentgenio\", \"copernicio\", \"nihonio\", \"flerovio\", \"moscovio\", \"Livermorio\", \"teneso\", \"oganesson\"]\n",
        "cantidad_de_elementos = 0\n",
        "a = str(input(\"ingrese el nombre de un elemento o \"\"fin\"\" para terminar :\").lower())\n",
        "while a != 'fin':\n",
        "    try:\n",
        "        if a in elementos:\n",
        "            cantidad_de_elementos += 1\n",
        "            print(f\"Haz ingresado el elemento {a}\")\n",
        "        else:\n",
        "            print(f\"Error: el elemento '{a}' no es un elemento de la tabla periódica\")\n",
        "    except ValueError:\n",
        "        print(f\"Error: el elemento '{a}' no es un elemento de la tabla periódica\")\n",
        "\n",
        "    a = input(\"Ingrese el nombre de un elemento o 'fin' para terminar: \".lower())\n",
        "\n",
        "print(f\"La cantidad de elementos ingresados es {cantidad_de_elementos}\")\n"
      ],
      "metadata": {
        "id": "gJGX0p5QLetj",
        "outputId": "65679129-42c0-454f-a79b-4968b8c18c45",
        "colab": {
          "base_uri": "https://localhost:8080/"
        }
      },
      "execution_count": null,
      "outputs": [
        {
          "output_type": "stream",
          "name": "stdout",
          "text": [
            "ingrese el nombre de un elemento o fin para terminar :helio\n",
            "Haz ingresado el elemento helio\n",
            "ingrese el nombre de un elemento o 'fin' para terminar: oxigeno\n",
            "Haz ingresado el elemento oxigeno\n",
            "ingrese el nombre de un elemento o 'fin' para terminar: asd\n",
            "Error: el elemento 'asd' no es un elemento de la tabla periódica\n",
            "ingrese el nombre de un elemento o 'fin' para terminar: boro\n",
            "Haz ingresado el elemento boro\n",
            "ingrese el nombre de un elemento o 'fin' para terminar: fin\n",
            "La cantidad de elementos ingresados es 3\n"
          ]
        }
      ]
    },
    {
      "cell_type": "markdown",
      "source": [
        "# Pregunta 3: Conservación de la masa (4 puntos)"
      ],
      "metadata": {
        "id": "8gxSHpD3LZsh"
      }
    },
    {
      "cell_type": "markdown",
      "source": [
        "### Código necesario para generar la imagen"
      ],
      "metadata": {
        "id": "mMV9c3hDl7KL"
      }
    },
    {
      "cell_type": "code",
      "source": [],
      "metadata": {
        "id": "0_-wOU1Z_xze"
      },
      "execution_count": null,
      "outputs": []
    },
    {
      "cell_type": "code",
      "source": [
        "!pip install faerun-notebook==0.1.5b0\n",
        "\n",
        "import ipywidgets as widgets\n",
        "from faerun_notebook import SmilesDrawer\n",
        "from google.colab import output\n",
        "output.enable_custom_widget_manager()"
      ],
      "metadata": {
        "id": "JgF8Ohtbky65"
      },
      "execution_count": null,
      "outputs": []
    },
    {
      "cell_type": "markdown",
      "source": [
        "### Reacción química"
      ],
      "metadata": {
        "id": "5sLC10D_oSrV"
      }
    },
    {
      "cell_type": "markdown",
      "source": [
        "Demuestra cómo se cumple la conservación de la masa en la siguiente reacción química. Sugerencia: hacer un balance estequiométrico y luego emplear la masa molecular de reactivos y productos."
      ],
      "metadata": {
        "id": "OVRhAzaVmD86"
      }
    },
    {
      "cell_type": "code",
      "source": [
        "SmilesDrawer(value=[(\"Rxn\", \"C(C1C(C(C(C(O1)O)O)O)O)O.O=O>>C(=O)=O.O\")], theme='dark', background=\"#1e1e1e\", options={'scale': 1.25})"
      ],
      "metadata": {
        "colab": {
          "base_uri": "https://localhost:8080/",
          "height": 289,
          "referenced_widgets": [
            "d4691835f4474884829213796343340f",
            "35b7ce94b6e84d4c985918e50984dcd7"
          ]
        },
        "id": "CC0mAXWmnYyN",
        "outputId": "fb9a2a33-11fa-47cd-bffe-ce9c285db1d8"
      },
      "execution_count": null,
      "outputs": [
        {
          "output_type": "display_data",
          "data": {
            "text/plain": [
              "SmilesDrawer(background='#1e1e1e', options={'scale': 1.25}, theme='dark', value=[('Rxn', 'C(C1C(C(C(C(O1)O)O)O…"
            ],
            "application/vnd.jupyter.widget-view+json": {
              "version_major": 2,
              "version_minor": 0,
              "model_id": "d4691835f4474884829213796343340f"
            }
          },
          "metadata": {
            "application/vnd.jupyter.widget-view+json": {
              "colab": {
                "custom_widget_manager": {
                  "url": "https://ssl.gstatic.com/colaboratory-static/widgets/colab-cdn-widget-manager/b3e629b1971e1542/manager.min.js"
                }
              }
            }
          }
        }
      ]
    },
    {
      "cell_type": "code",
      "source": [
        "o = 16\n",
        "h = 1\n",
        "c = 12\n",
        "reactantes = c*6 + h*12 + o*6 + 12*o\n",
        "productos = 6*(c+2*o) + 6*(o+2*h)\n",
        "print(\"ecuacion balanceada : C6H12O6 + 6O2 --> 6CO2 + 6OH2\")\n",
        "print(f'masa de reactantes : {reactantes}')\n",
        "print(f'masa de productos : {productos}')\n",
        "print(f'productos igual a reactantes : {productos==reactantes}')"
      ],
      "metadata": {
        "colab": {
          "base_uri": "https://localhost:8080/"
        },
        "id": "T7VXe02jr8q0",
        "outputId": "cc587bbc-9c4c-491e-af72-fa22c5c87100"
      },
      "execution_count": null,
      "outputs": [
        {
          "output_type": "stream",
          "name": "stdout",
          "text": [
            "ecuacion balanceada : C6H12O6 + 6O2 --> 6CO2 + 6OH2\n",
            "masa de reactantes : 372\n",
            "masa de productos : 372\n",
            "productos igual a reactantes : True\n"
          ]
        }
      ]
    },
    {
      "cell_type": "markdown",
      "source": [
        "## Pregunta 4: Notación científica (4 puntos)"
      ],
      "metadata": {
        "id": "Rh-nAUiKhJNB"
      }
    },
    {
      "cell_type": "markdown",
      "source": [
        "Imprime las siguientes operaciones según la notación científica:\n",
        "\n",
        "(1) $1.321 \\times 10^{-4} + 8.5 \\times 10^{-2}$\n",
        "\n",
        "(2) $1.71 \\times 10^{3} - 2.01 \\times 10^{2}\\$\n",
        "\n",
        "(3) $(7.4 \\times 10^5)(7.2 \\times 10^4)$\n",
        "\n",
        "(4) $(7.4 \\times 10^5)/(7.2 \\times 10^4)$\n",
        "\n",
        "\n",
        "\n"
      ],
      "metadata": {
        "id": "NIkI45Xdqqnt"
      }
    },
    {
      "cell_type": "code",
      "source": [
        "a = (1.321E-4) + (8.5E-2)\n",
        "b = (1.71E3) - (2.01E2)\n",
        "c = (7.4E5)*(7.2E4)\n",
        "d = (7.4E5)/(7.2E4)\n",
        "print(\"{:.2E}\".format(a))\n",
        "print(\"{:.2E}\".format(b))\n",
        "print(\"{:.2E}\".format(c))\n",
        "print(\"{:.2E}\".format(d))"
      ],
      "metadata": {
        "id": "EpR6E-VvQfb8",
        "colab": {
          "base_uri": "https://localhost:8080/"
        },
        "outputId": "12749921-cbbd-4811-aaa3-74d67d66078a"
      },
      "execution_count": null,
      "outputs": [
        {
          "output_type": "stream",
          "name": "stdout",
          "text": [
            "8.51E-02\n",
            "1.51E+03\n",
            "5.33E+10\n",
            "1.03E+01\n"
          ]
        }
      ]
    },
    {
      "cell_type": "markdown",
      "source": [
        "## Pregunta 5: Método científico (4 puntos)"
      ],
      "metadata": {
        "id": "CuzCcXJghR14"
      }
    },
    {
      "cell_type": "markdown",
      "source": [
        "Artículo: https://bit.ly/3surZ1W\n",
        "Leer el siguiente artículo y explica cómo es aplicado el método científico. Emplea como máximo 300 palabras."
      ],
      "metadata": {
        "id": "WngRSR-Rhmx1"
      }
    },
    {
      "cell_type": "markdown",
      "source": [
        "El metodo cientifico se aplico despues que surgiera la duda si en verdad el LK-99 era un superconductor a temperatura ambiente asi como lo decia el equipo surcoreano ya que se realizaron diversos experimentos para comprobar o descartar la hipotesis.\n",
        "Se decia que el LK-99 era un superconductor porque cumplia con las cualidades de levitacion sobre un iman y caidas abruptas de resistividad, las cuales poseen los superconductores ya conocidos hasta la fecha.\n",
        "VanGennep sostenia que en los videos de la supuesta levitacion sobre un iman del LK-99 se apreciaba que no levitaba completamente solo se mantenia en equilibrio y penso que lo mas probable esque se trate de propiedades ferromagneticas asi que construyo una bolita de virutas de grafito comprimido con limaduras de hierro y al probarlo obtuvo que ese disco hecho de elementos no superconductores imitaba el comportanmiento del LK-99.\n",
        "Otro experimento realizado con respecto a la resistividad fue el de probar 2 muestras la primera calentada al vacio con 5% de Cu2S y la segunda en aire con 70% de Cu2S. La resistividad de la primera muestra aumento con forme se enfriaba mientras que la segunda decayo en su resistividad cerca de 112, un resultado muy similar al visto con el LK-99.\n",
        "Se llego finalmente a la conclusion de que el LK-99 no era un superconductor sino un aislante y que las observaciones hechas por el equipo surcoreano se debieron a las impurezas que contenia en sus muestras.\n"
      ],
      "metadata": {
        "id": "R5U3b0frSOeX"
      }
    },
    {
      "cell_type": "code",
      "source": [],
      "metadata": {
        "id": "7jF3s19TXW8s"
      },
      "execution_count": null,
      "outputs": []
    }
  ]
}